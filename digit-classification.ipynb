{
 "cells": [
  {
   "cell_type": "code",
   "execution_count": 1,
   "id": "c661168d",
   "metadata": {},
   "outputs": [],
   "source": [
    "import numpy as np\n",
    "from matplotlib import pyplot as plt"
   ]
  },
  {
   "cell_type": "markdown",
   "id": "1db26726",
   "metadata": {},
   "source": [
    "$$log P(Y=1|X=\\vec{x}_t) = \\sigma (\\vec{w}\\cdot\\vec{x}_t)$$<br>\n",
    "$$This\\ can\\ be\\ written\\ in\\ matrix\\ form\\ as\\ follows:-$$<br>\n",
    "$$P = \\sigma \\left(X\\cdot\\vec{w}\\right)$$\n",
    "$$Where\\ P = \\left[P(Y=1|X=\\vec{x}_1), P(Y=1|X=\\vec{x}_2), \\ldots, P(Y=1|X=\\vec{x}_T)\\right]$$\n",
    "$$X = [\\vec{x}_1, \\vec{x}_2, \\ldots, \\vec{x}_T]$$"
   ]
  },
  {
   "cell_type": "code",
   "execution_count": 2,
   "id": "4c38a371",
   "metadata": {},
   "outputs": [],
   "source": [
    "# Defining Logistic Regression model\n",
    "class LogRegModel:\n",
    "    def __init__(self, paramShape):\n",
    "        self.weightVec = np.random.rand(paramShape)\n",
    "        \n",
    "    def Sigmoid(self, arr):\n",
    "        return 1/(1 + np.exp(-arr))\n",
    "        \n",
    "    def LogLikelihood(self, bitmaps):\n",
    "        return self.Sigmoid(np.dot(bitmaps, self.weightVec))"
   ]
  },
  {
   "cell_type": "code",
   "execution_count": 3,
   "id": "8481f15f",
   "metadata": {},
   "outputs": [],
   "source": [
    "# Reading train data\n",
    "# Giving label 0 to digit 3 and label 1 to digit 5\n",
    "bitmap_train = []\n",
    "label_train = []\n",
    "\n",
    "with open('train3.txt', 'r') as f:\n",
    "    bitmapLines = f.readlines()\n",
    "    \n",
    "    for bitmap in bitmapLines:\n",
    "        bitmap_train.append(bitmap.replace(' \\n', '').split(' '))\n",
    "        label_train.append(0)\n",
    "        \n",
    "with open('train5.txt', 'r') as f:\n",
    "    bitmapLines = f.readlines()\n",
    "    \n",
    "    for bitmap in bitmapLines:\n",
    "        bitmap_train.append(bitmap.replace(' \\n', '').split(' '))\n",
    "        label_train.append(1)\n",
    "        \n",
    "bitmap_train = np.array(bitmap_train, dtype=float)\n",
    "label_train = np.array(label_train, dtype=float)"
   ]
  },
  {
   "cell_type": "markdown",
   "id": "cdca5306",
   "metadata": {},
   "source": [
    "Logistic regression is represented by, $${\\cal L} = \\sum_t \\log P(y_t|\\vec{x}_t)$$<br>\n",
    "Gradient is represented by, $$\\frac{\\partial{\\cal L}}{\\partial \\vec{w}_{i}}\\ =\\ \\sum_{t} (y_{it}-p_{it})\\,\\vec{x}_t.$$<br>\n",
    "Gradient can be written in matrix form as follows :-\n",
    "$$\\frac{\\partial{\\cal L}}{\\partial \\vec{w}_{i}} = (Y - P) \\cdot X$$<br>\n",
    "$$Where\\ Y = \\left[Y_1, Y_2, \\ldots, Y_T)\\right]$$\n",
    "$$P = \\left[P(Y=1|X=\\vec{x}_1), P(Y=1|X=\\vec{x}_2), \\ldots, P(Y=1|X=\\vec{x}_T)\\right]$$\n",
    "$$X = [\\vec{x}_1, \\vec{x}_2, \\ldots, \\vec{x}_T]$$<br>\n",
    "(Y - P) is a T dimensional row vector that represents difference between actual values and predicted values<br><br>\n",
    "Gradient Ascent equation is as follows :-\n",
    "$$\\vec{w}\\ \\leftarrow\\ \\vec{w} + \\eta\\ \\left[(Y - P) \\cdot X\\right]$$"
   ]
  },
  {
   "cell_type": "code",
   "execution_count": 4,
   "id": "91a9b58d",
   "metadata": {},
   "outputs": [
    {
     "name": "stdout",
     "output_type": "stream",
     "text": [
      "Iteration  1 \t Log-likelihood =  -10692.063404000208 \t Percent error =  50.0\n",
      "Iteration  20 \t Log-likelihood =  -691.5208911931325 \t Percent error =  23.785714285714285\n",
      "Iteration  40 \t Log-likelihood =  -452.05191034437803 \t Percent error =  12.571428571428573\n",
      "Iteration  60 \t Log-likelihood =  -372.3563211344531 \t Percent error =  9.428571428571429\n",
      "Iteration  80 \t Log-likelihood =  -331.3984558471569 \t Percent error =  8.428571428571429\n",
      "Iteration  100 \t Log-likelihood =  -305.8497315711378 \t Percent error =  7.857142857142857\n",
      "Iteration  120 \t Log-likelihood =  -288.1895047574516 \t Percent error =  7.357142857142857\n",
      "Iteration  140 \t Log-likelihood =  -275.15600336893385 \t Percent error =  6.5\n",
      "Iteration  160 \t Log-likelihood =  -265.07967976446673 \t Percent error =  6.071428571428571\n",
      "Iteration  180 \t Log-likelihood =  -257.01243594078767 \t Percent error =  5.785714285714286\n",
      "Iteration  200 \t Log-likelihood =  -250.37512132810883 \t Percent error =  5.642857142857142\n",
      "Iteration  220 \t Log-likelihood =  -244.79383570097457 \t Percent error =  5.642857142857142\n",
      "Iteration  240 \t Log-likelihood =  -240.0163283263079 \t Percent error =  5.642857142857142\n",
      "Iteration  260 \t Log-likelihood =  -235.86616102776196 \t Percent error =  5.571428571428571\n",
      "Iteration  280 \t Log-likelihood =  -232.21612893572294 \t Percent error =  5.5\n",
      "Iteration  300 \t Log-likelihood =  -228.97212514018122 \t Percent error =  5.5\n",
      "Iteration  320 \t Log-likelihood =  -226.06296111649266 \t Percent error =  5.5\n",
      "Iteration  340 \t Log-likelihood =  -223.4337296456077 \t Percent error =  5.357142857142857\n",
      "Iteration  360 \t Log-likelihood =  -221.0413520985395 \t Percent error =  5.357142857142857\n",
      "Iteration  380 \t Log-likelihood =  -218.851515407369 \t Percent error =  5.357142857142857\n",
      "Iteration  400 \t Log-likelihood =  -216.83651774990267 \t Percent error =  5.071428571428571\n",
      "Iteration  420 \t Log-likelihood =  -214.97372307133884 \t Percent error =  5.071428571428571\n",
      "Iteration  440 \t Log-likelihood =  -213.24443248870023 \t Percent error =  5.0\n",
      "Iteration  460 \t Log-likelihood =  -211.63304677978897 \t Percent error =  5.0\n",
      "Iteration  480 \t Log-likelihood =  -210.12643574841553 \t Percent error =  4.857142857142857\n",
      "Iteration  500 \t Log-likelihood =  -208.71345700512165 \t Percent error =  4.857142857142857\n"
     ]
    }
   ],
   "source": [
    "# Initialize model and hyper parameters\n",
    "model = LogRegModel(64)\n",
    "\n",
    "iterations = 500\n",
    "learning_rate = 0.2/len(label_train)\n",
    "percentErrors = []\n",
    "logLikelihoods = []\n",
    "itrList = [x for x in range(1, iterations+1)]\n",
    "\n",
    "# Gradient Ascent\n",
    "for itr in range(1, iterations+1):\n",
    "    # Compute predictions, percent error and log likelihood\n",
    "    pLabelGivenBitmap = model.LogLikelihood(bitmap_train)\n",
    "    percentErrors.append((np.sum((label_train != (pLabelGivenBitmap > 0.5).astype(int)).astype(int))/len(label_train))*100)\n",
    "    logLikelihoods.append(np.sum(label_train*np.log(pLabelGivenBitmap) + (1-label_train)*np.log(1 - pLabelGivenBitmap)))\n",
    "    \n",
    "    if(itr==1 or itr%20==0):\n",
    "        print(\"Iteration \", itr, \"\\t Log-likelihood = \", logLikelihoods[-1], \"\\t Percent error = \", percentErrors[-1])\n",
    "    \n",
    "    # weight update\n",
    "    gradient = np.dot(label_train - pLabelGivenBitmap, bitmap_train)\n",
    "    model.weightVec = model.weightVec + learning_rate*gradient"
   ]
  },
  {
   "cell_type": "code",
   "execution_count": 5,
   "id": "455e4084",
   "metadata": {},
   "outputs": [
    {
     "data": {
      "image/png": "[encoded data removed]",
      "text/plain": [
       "<Figure size 432x288 with 1 Axes>"
      ]
     },
     "metadata": {
      "needs_background": "light"
     },
     "output_type": "display_data"
    },
    {
     "data": {
      "image/png": "[encoded data removed]",
      "text/plain": [
       "<Figure size 432x288 with 1 Axes>"
      ]
     },
     "metadata": {
      "needs_background": "light"
     },
     "output_type": "display_data"
    },
    {
     "name": "stdout",
     "output_type": "stream",
     "text": [
      "Weights in the form of an 8X8 matrix :-\n",
      "\n",
      "[[-0.34617716 -0.65569367 -0.62125699 -0.92681646 -0.77196596 -0.02663191\n",
      "   0.58493628  1.46657927]\n",
      " [ 0.10177901  0.20370297 -0.00904489  0.10615928 -0.08927346  0.23935354\n",
      "  -0.44999106 -0.69342582]\n",
      " [ 1.08107691  1.01859833  1.22831035  0.31267651  0.40436647 -1.25423315\n",
      "  -1.99328051 -1.2904294 ]\n",
      " [ 0.59479595  0.63140307  0.27562845 -0.01931064 -0.56601302 -0.88409676\n",
      "  -0.07900004 -0.10632697]\n",
      " [ 0.60539528  0.47487458 -0.02381732 -0.11603343 -0.30020209 -0.53360873\n",
      "  -0.07391531 -0.24071354]\n",
      " [ 0.6423552  -0.13435407 -0.17259834  0.52830511  0.23783596  0.14150086\n",
      "   0.51461759 -0.60478732]\n",
      " [ 0.96230645 -0.23048089  0.64249679  0.13520567  0.18511928 -0.2204645\n",
      "   0.41885869 -0.35616502]\n",
      " [ 0.02880699  0.25300272  0.05366539 -0.04314749  0.41243363  0.17891787\n",
      "   0.11944765  0.08757724]]\n"
     ]
    }
   ],
   "source": [
    "# Part A\n",
    "\n",
    "# Plot percent error rate\n",
    "plt.plot(itrList, percentErrors)\n",
    "plt.title('Percent error rate')\n",
    "plt.ylabel('Percent error rate')\n",
    "plt.xlabel('Iteration')\n",
    "plt.savefig('PercentError.png')\n",
    "plt.show()\n",
    "plt.close()\n",
    "\n",
    "# Plot log likelihood\n",
    "plt.plot(itrList, logLikelihoods)\n",
    "plt.title('Log Likelihood')\n",
    "plt.ylabel('Log Likelihood')\n",
    "plt.xlabel('Iteration')\n",
    "plt.savefig('LogLikelihood.png')\n",
    "plt.show()\n",
    "plt.close()\n",
    "\n",
    "# Print weight vector\n",
    "print(\"Weights in the form of an 8X8 matrix :-\\n\")\n",
    "print(np.reshape(model.weightVec, (8, 8)))"
   ]
  },
  {
   "cell_type": "code",
   "execution_count": 6,
   "id": "0724f652",
   "metadata": {},
   "outputs": [],
   "source": [
    "# Read test data\n",
    "bitmap_test = []\n",
    "label_test = []\n",
    "\n",
    "with open('test3.txt', 'r') as f:\n",
    "    bitmapLines = f.readlines()\n",
    "    \n",
    "    for bitmap in bitmapLines:\n",
    "        bitmap_test.append(bitmap.replace(' \\n', '').split(' '))\n",
    "        label_test.append(0)\n",
    "        \n",
    "with open('test5.txt', 'r') as f:\n",
    "    bitmapLines = f.readlines()\n",
    "    \n",
    "    for bitmap in bitmapLines:\n",
    "        bitmap_test.append(bitmap.replace(' \\n', '').split(' '))\n",
    "        label_test.append(1)\n",
    "        \n",
    "bitmap_test = np.array(bitmap_test, dtype=float)\n",
    "label_test = np.array(label_test, dtype=float)"
   ]
  },
  {
   "cell_type": "code",
   "execution_count": 7,
   "id": "0c7549fe",
   "metadata": {},
   "outputs": [
    {
     "name": "stdout",
     "output_type": "stream",
     "text": [
      "Percent error :-  5.25\n"
     ]
    }
   ],
   "source": [
    "# Part B\n",
    "\n",
    "# Label test images and compute percent error rate\n",
    "testProbs = model.LogLikelihood(bitmap_test)\n",
    "predLabels = (testProbs > 0.5).astype(int)\n",
    "percentError = np.sum((label_test != predLabels).astype(int))/len(label_test)*100\n",
    "print('Percent error :- ', percentError)"
   ]
  },
  {
   "cell_type": "code",
   "execution_count": null,
   "id": "b3dd2390",
   "metadata": {},
   "outputs": [],
   "source": []
  }
 ],
 "metadata": {
  "kernelspec": {
   "display_name": "Python 3 (ipykernel)",
   "language": "python",
   "name": "python3"
  },
  "language_info": {
   "codemirror_mode": {
    "name": "ipython",
    "version": 3
   },
   "file_extension": ".py",
   "mimetype": "text/x-python",
   "name": "python",
   "nbconvert_exporter": "python",
   "pygments_lexer": "ipython3",
   "version": "3.9.12"
  }
 },
 "nbformat": 4,
 "nbformat_minor": 5
}
